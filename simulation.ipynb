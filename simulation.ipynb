{
 "cells": [
  {
   "cell_type": "code",
   "execution_count": 1,
   "id": "f63c2805",
   "metadata": {},
   "outputs": [],
   "source": [
    "import pandas as pd\n",
    "import numpy as np\n",
    "import scipy.stats as stats\n",
    "import matplotlib.pyplot as plt\n",
    "import seaborn as sns\n",
    "from math import sqrt"
   ]
  },
  {
   "cell_type": "code",
   "execution_count": 2,
   "id": "db2ed06c",
   "metadata": {},
   "outputs": [
    {
     "data": {
      "text/plain": [
       "array([[1, 5],\n",
       "       [6, 3],\n",
       "       [2, 4],\n",
       "       ...,\n",
       "       [1, 2],\n",
       "       [1, 3],\n",
       "       [4, 2]])"
      ]
     },
     "execution_count": 2,
     "metadata": {},
     "output_type": "execute_result"
    }
   ],
   "source": [
    "# How likely is it that you roll doubles when rolling two dice?\n",
    "\n",
    "n_trials = nrows = 10_000\n",
    "n_dice = ncols = 2\n",
    "\n",
    "rolls = np.random.choice([1, 2, 3, 4, 5, 6], n_trials * n_dice).reshape(nrows, ncols)\n",
    "rolls"
   ]
  },
  {
   "cell_type": "code",
   "execution_count": 28,
   "id": "9ab69fe8",
   "metadata": {},
   "outputs": [
    {
     "data": {
      "text/plain": [
       "0.1624"
      ]
     },
     "execution_count": 28,
     "metadata": {},
     "output_type": "execute_result"
    }
   ],
   "source": [
    "rolls[:,0] == rolls[:,1]\n",
    "\n",
    "doubles = (rolls[:,0] == rolls[:,1]).astype(int).mean()\n",
    "doubles\n",
    "\n",
    "# answer: 16.2%"
   ]
  },
  {
   "cell_type": "code",
   "execution_count": 95,
   "id": "e9a53565",
   "metadata": {},
   "outputs": [
    {
     "data": {
      "text/plain": [
       "array([[1, 1, 0, ..., 1, 0, 0],\n",
       "       [0, 0, 1, ..., 0, 0, 0],\n",
       "       [0, 0, 0, ..., 0, 1, 1],\n",
       "       ...,\n",
       "       [1, 0, 0, ..., 1, 0, 1],\n",
       "       [1, 0, 0, ..., 1, 0, 1],\n",
       "       [1, 1, 1, ..., 1, 0, 1]])"
      ]
     },
     "execution_count": 95,
     "metadata": {},
     "output_type": "execute_result"
    }
   ],
   "source": [
    "# If you flip 8 coins, what is the probability of getting exactly 3 heads? \n",
    "# What is the probability of getting more than 3 heads?\n",
    "\n",
    "n_trials = nrows = 10_000\n",
    "n_coin = ncols = 8\n",
    "\n",
    "flips = np.random.choice([0, 1], n_trials * n_coin).reshape(nrows, ncols)\n",
    "flips"
   ]
  },
  {
   "cell_type": "code",
   "execution_count": 98,
   "id": "8919f991",
   "metadata": {},
   "outputs": [
    {
     "data": {
      "text/plain": [
       "0.2164"
      ]
     },
     "execution_count": 98,
     "metadata": {},
     "output_type": "execute_result"
    }
   ],
   "source": [
    "flips = pd.DataFrame(flips)\n",
    "three_heads = (flips.sum(axis=1) == 3).mean()\n",
    "three_heads"
   ]
  },
  {
   "cell_type": "code",
   "execution_count": 99,
   "id": "6e1ad3f8",
   "metadata": {},
   "outputs": [
    {
     "data": {
      "text/plain": [
       "0.6365"
      ]
     },
     "execution_count": 99,
     "metadata": {},
     "output_type": "execute_result"
    }
   ],
   "source": [
    "more_than_three_heads = (flips.sum(axis=1) > 3).mean()\n",
    "more_than_three_heads"
   ]
  },
  {
   "cell_type": "code",
   "execution_count": 104,
   "id": "5a37d2b1",
   "metadata": {},
   "outputs": [
    {
     "data": {
      "text/plain": [
       "array([[1, 0],\n",
       "       [0, 0],\n",
       "       [1, 1],\n",
       "       ...,\n",
       "       [1, 0],\n",
       "       [0, 1],\n",
       "       [0, 1]])"
      ]
     },
     "execution_count": 104,
     "metadata": {},
     "output_type": "execute_result"
    }
   ],
   "source": [
    "# There are approximitely 3 web development cohorts for every 1 data science cohort at Codeup. \n",
    "# Assuming that Codeup randomly selects an alumni to put on a billboard, \n",
    "# what are the odds that the two billboards I drive past both have data science students on them?\n",
    "\n",
    "n_trials = nrows = 10**5\n",
    "n_bills = ncols = 2\n",
    "\n",
    "alum = np.random.choice([0, 0, 0, 1], n_trials * n_dice).reshape(nrows, ncols)\n",
    "alum\n",
    "\n",
    "# alum = np.random.choice([0, 1], n_trials * n_dice, p= (.75 , .25).reshape(nrows, ncols)"
   ]
  },
  {
   "cell_type": "code",
   "execution_count": 106,
   "id": "9ff659de",
   "metadata": {},
   "outputs": [
    {
     "data": {
      "text/plain": [
       "0.06255"
      ]
     },
     "execution_count": 106,
     "metadata": {},
     "output_type": "execute_result"
    }
   ],
   "source": [
    "DS_student = (alum.sum(axis=1) == 2).mean()\n",
    "DS_student"
   ]
  },
  {
   "cell_type": "code",
   "execution_count": 128,
   "id": "c798c070",
   "metadata": {},
   "outputs": [
    {
     "data": {
      "text/plain": [
       "array([[ 1.32584843,  2.17609697,  2.426834  ,  3.14399814,  4.12117734],\n",
       "       [ 2.85382265,  0.09088141,  4.85193434,  3.80415846,  2.266643  ],\n",
       "       [ 6.64204044,  3.90751457,  4.04025643,  3.89820645,  4.02076782],\n",
       "       ...,\n",
       "       [ 1.57924731,  2.61686198,  4.29127373,  2.06977689,  3.3377    ],\n",
       "       [ 5.32684394,  6.86504489,  1.93571865,  4.76866728,  3.04523395],\n",
       "       [ 0.97244044,  1.89127534, -0.75495083,  4.79680119,  4.70998968]])"
      ]
     },
     "execution_count": 128,
     "metadata": {},
     "output_type": "execute_result"
    }
   ],
   "source": [
    "# Codeup students buy, on average, 3 poptart packages with a standard deviation of 1.5 a day from the \n",
    "# snack vending machine. If on monday the machine is restocked with 17 poptart packages, \n",
    "# how likely is it that I will be able to buy some poptarts on Friday afternoon? \n",
    "# (Remember, if you have mean and standard deviation, use the np.random.normal)\n",
    "\n",
    "n_trials = nrows = 10**5\n",
    "n_days = ncols = 5\n",
    "\n",
    "poptarts = np.random.normal(3, 1.5, n_trials * n_days).reshape(nrows, ncols)\n",
    "poptarts"
   ]
  },
  {
   "cell_type": "code",
   "execution_count": 130,
   "id": "ec5e0d2f",
   "metadata": {},
   "outputs": [
    {
     "data": {
      "text/plain": [
       "array([[ 1.,  2.,  2.,  3.,  4.],\n",
       "       [ 3.,  0.,  5.,  4.,  2.],\n",
       "       [ 7.,  4.,  4.,  4.,  4.],\n",
       "       ...,\n",
       "       [ 2.,  3.,  4.,  2.,  3.],\n",
       "       [ 5.,  7.,  2.,  5.,  3.],\n",
       "       [ 1.,  2., -1.,  5.,  5.]])"
      ]
     },
     "execution_count": 130,
     "metadata": {},
     "output_type": "execute_result"
    }
   ],
   "source": [
    "poptarts.round()"
   ]
  },
  {
   "cell_type": "code",
   "execution_count": 133,
   "id": "2247d80e",
   "metadata": {},
   "outputs": [
    {
     "data": {
      "text/plain": [
       "0.72422"
      ]
     },
     "execution_count": 133,
     "metadata": {},
     "output_type": "execute_result"
    }
   ],
   "source": [
    "yes_friday = (poptarts.sum(axis=1) < 17).mean()\n",
    "yes_friday"
   ]
  },
  {
   "cell_type": "code",
   "execution_count": 138,
   "id": "b7fd2c34",
   "metadata": {},
   "outputs": [
    {
     "data": {
      "text/plain": [
       "0.21254"
      ]
     },
     "execution_count": 138,
     "metadata": {},
     "output_type": "execute_result"
    }
   ],
   "source": [
    "# Compare Heights\n",
    "# Men have an average height of 178 cm and standard deviation of 8cm.\n",
    "# Women have a mean of 170, sd = 6cm.\n",
    "# Since you have means and standard deviations, you can use np.random.normal to generate observations.\n",
    "# If a man and woman are chosen at random, what is the likelihood the woman is taller than the man?\n",
    "\n",
    "\n",
    "men_height = np.random.normal(178, 8, 10**5)\n",
    "women_height = np.random.normal(170, 6, 10**5)\n",
    "woman_taller = (women_height > men_height).mean()\n",
    "woman_taller"
   ]
  },
  {
   "cell_type": "code",
   "execution_count": 184,
   "id": "ce9974ed",
   "metadata": {},
   "outputs": [
    {
     "data": {
      "text/plain": [
       "0.81979"
      ]
     },
     "execution_count": 184,
     "metadata": {},
     "output_type": "execute_result"
    }
   ],
   "source": [
    "# When installing anaconda on a student's computer, there's a 1 in 250 chance that the download is corrupted \n",
    "# and the installation fails. What are the odds that after having 50 students download anaconda, \n",
    "\n",
    "chance = 1/250\n",
    "fifty = (np.random.random((10**5, 50)) > chance).prod(axis=1).mean()\n",
    "fifty"
   ]
  },
  {
   "cell_type": "code",
   "execution_count": 186,
   "id": "7c85e9ad",
   "metadata": {},
   "outputs": [
    {
     "data": {
      "text/plain": [
       "0.66724"
      ]
     },
     "execution_count": 186,
     "metadata": {},
     "output_type": "execute_result"
    }
   ],
   "source": [
    "# no one has an installation issue? 100 students?\n",
    "\n",
    "one_hundred = (np.random.random((10**5, 100)) > chance).prod(axis=1).mean()\n",
    "one_hundred"
   ]
  },
  {
   "cell_type": "code",
   "execution_count": 187,
   "id": "9ad331d0",
   "metadata": {},
   "outputs": [
    {
     "data": {
      "text/plain": [
       "0.54639"
      ]
     },
     "execution_count": 187,
     "metadata": {},
     "output_type": "execute_result"
    }
   ],
   "source": [
    "# What is the probability that we observe an installation issue within the first 150 students that download anaconda?\n",
    "\n",
    "one_fifty = (np.random.random((10**5, 150)) > chance).prod(axis=1).mean()\n",
    "one_fifty"
   ]
  },
  {
   "cell_type": "code",
   "execution_count": 188,
   "id": "a0ed652c",
   "metadata": {},
   "outputs": [
    {
     "data": {
      "text/plain": [
       "0.16514"
      ]
     },
     "execution_count": 188,
     "metadata": {},
     "output_type": "execute_result"
    }
   ],
   "source": [
    "# How likely is it that 450 students all download anaconda without an issue?\n",
    "\n",
    "all = (np.random.random((10**5, 450)) > chance).prod(axis=1).mean()\n",
    "all"
   ]
  },
  {
   "cell_type": "code",
   "execution_count": 197,
   "id": "45402046",
   "metadata": {},
   "outputs": [
    {
     "data": {
      "text/plain": [
       "0.89884"
      ]
     },
     "execution_count": 197,
     "metadata": {},
     "output_type": "execute_result"
    }
   ],
   "source": [
    "# There's a 70% chance on any given day that there will be at least one food truck at Travis Park. \n",
    "# However, you haven't seen a food truck there in 3 days. How unlikely is this?\n",
    "\n",
    "n_trials = nrows = 10**5\n",
    "n_days = ncols = 3\n",
    "\n",
    "trucks = np.random.choice([0,1], size=(nrows, ncols), p=[.7, .3])\n",
    "trucks.sum(axis=1).mean()\n",
    "\n",
    "#.99"
   ]
  },
  {
   "cell_type": "code",
   "execution_count": 205,
   "id": "6fe1d401",
   "metadata": {},
   "outputs": [
    {
     "data": {
      "text/plain": [
       "0.0003"
      ]
     },
     "execution_count": 205,
     "metadata": {},
     "output_type": "execute_result"
    }
   ],
   "source": [
    "# How likely is it that a food truck will show up sometime this week?\n",
    "\n",
    "n_trials = nrows = 10**5\n",
    "n_days = ncols = 5\n"
   ]
  },
  {
   "cell_type": "code",
   "execution_count": 208,
   "id": "ea99ac5b",
   "metadata": {},
   "outputs": [
    {
     "data": {
      "text/plain": [
       "0.509"
      ]
     },
     "execution_count": 208,
     "metadata": {},
     "output_type": "execute_result"
    }
   ],
   "source": [
    "# If 23 people are in the same room, what are the odds that two of them share a birthday? \n",
    "# What if it's 20 people? 40?\n",
    "\n",
    "birthday_23 = pd.DataFrame(np.random.randint(0,365,(10_000,23)))\n",
    "share_23 = birthday_23.apply(lambda x: len(set(x)) != len(x),axis=1).mean()\n",
    "share_23"
   ]
  },
  {
   "cell_type": "code",
   "execution_count": 207,
   "id": "f99122fb",
   "metadata": {},
   "outputs": [
    {
     "data": {
      "text/plain": [
       "0.4084"
      ]
     },
     "execution_count": 207,
     "metadata": {},
     "output_type": "execute_result"
    }
   ],
   "source": [
    "birthday_20 = pd.DataFrame(np.random.randint(0,365,(10_000,20)))\n",
    "share_20 = birthday_20.apply(lambda x: len(set(x)) != len(x),axis=1).mean()\n",
    "share_20"
   ]
  }
 ],
 "metadata": {
  "kernelspec": {
   "display_name": "Python 3 (ipykernel)",
   "language": "python",
   "name": "python3"
  },
  "language_info": {
   "codemirror_mode": {
    "name": "ipython",
    "version": 3
   },
   "file_extension": ".py",
   "mimetype": "text/x-python",
   "name": "python",
   "nbconvert_exporter": "python",
   "pygments_lexer": "ipython3",
   "version": "3.9.7"
  }
 },
 "nbformat": 4,
 "nbformat_minor": 5
}
