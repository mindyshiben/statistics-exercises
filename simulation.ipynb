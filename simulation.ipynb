{
 "cells": [
  {
   "cell_type": "code",
   "execution_count": 1,
   "id": "2513d9df",
   "metadata": {},
   "outputs": [],
   "source": [
    "import pandas as pd\n",
    "import numpy as np\n",
    "import scipy.stats as stats\n",
    "import matplotlib.pyplot as plt\n",
    "import seaborn as sns\n",
    "from math import sqrt"
   ]
  },
  {
   "cell_type": "code",
   "execution_count": 2,
   "id": "50e2a13b",
   "metadata": {},
   "outputs": [
    {
     "data": {
      "text/plain": [
       "array([[1, 5],\n",
       "       [6, 3],\n",
       "       [2, 4],\n",
       "       ...,\n",
       "       [1, 2],\n",
       "       [1, 3],\n",
       "       [4, 2]])"
      ]
     },
     "execution_count": 2,
     "metadata": {},
     "output_type": "execute_result"
    }
   ],
   "source": [
    "# How likely is it that you roll doubles when rolling two dice?\n",
    "\n",
    "n_trials = nrows = 10_000\n",
    "n_dice = ncols = 2\n",
    "\n",
    "rolls = np.random.choice([1, 2, 3, 4, 5, 6], n_trials * n_dice).reshape(nrows, ncols)\n",
    "rolls"
   ]
  },
  {
   "cell_type": "code",
   "execution_count": 28,
   "id": "f54cb070",
   "metadata": {},
   "outputs": [
    {
     "data": {
      "text/plain": [
       "0.1624"
      ]
     },
     "execution_count": 28,
     "metadata": {},
     "output_type": "execute_result"
    }
   ],
   "source": [
    "rolls[:,0] == rolls[:,1]\n",
    "\n",
    "doubles = (rolls[:,0] == rolls[:,1]).astype(int).mean()\n",
    "doubles\n",
    "\n",
    "# answer: 16.2%"
   ]
  },
  {
   "cell_type": "code",
   "execution_count": 95,
   "id": "2469509e",
   "metadata": {},
   "outputs": [
    {
     "data": {
      "text/plain": [
       "array([[1, 1, 0, ..., 1, 0, 0],\n",
       "       [0, 0, 1, ..., 0, 0, 0],\n",
       "       [0, 0, 0, ..., 0, 1, 1],\n",
       "       ...,\n",
       "       [1, 0, 0, ..., 1, 0, 1],\n",
       "       [1, 0, 0, ..., 1, 0, 1],\n",
       "       [1, 1, 1, ..., 1, 0, 1]])"
      ]
     },
     "execution_count": 95,
     "metadata": {},
     "output_type": "execute_result"
    }
   ],
   "source": [
    "# If you flip 8 coins, what is the probability of getting exactly 3 heads? \n",
    "# What is the probability of getting more than 3 heads?\n",
    "\n",
    "n_trials = nrows = 10_000\n",
    "n_coin = ncols = 8\n",
    "\n",
    "flips = np.random.choice([0, 1], n_trials * n_coin).reshape(nrows, ncols)\n",
    "flips"
   ]
  },
  {
   "cell_type": "code",
   "execution_count": 98,
   "id": "e2cff8fd",
   "metadata": {},
   "outputs": [
    {
     "data": {
      "text/plain": [
       "0.2164"
      ]
     },
     "execution_count": 98,
     "metadata": {},
     "output_type": "execute_result"
    }
   ],
   "source": [
    "flips = pd.DataFrame(flips)\n",
    "three_heads = (flips.sum(axis=1) == 3).mean()\n",
    "three_heads"
   ]
  },
  {
   "cell_type": "code",
   "execution_count": 99,
   "id": "76eedf4a",
   "metadata": {},
   "outputs": [
    {
     "data": {
      "text/plain": [
       "0.6365"
      ]
     },
     "execution_count": 99,
     "metadata": {},
     "output_type": "execute_result"
    }
   ],
   "source": [
    "more_than_three_heads = (flips.sum(axis=1) > 3).mean()\n",
    "more_than_three_heads"
   ]
  },
  {
   "cell_type": "code",
   "execution_count": 104,
   "id": "7334fff1",
   "metadata": {},
   "outputs": [
    {
     "data": {
      "text/plain": [
       "array([[1, 0],\n",
       "       [0, 0],\n",
       "       [1, 1],\n",
       "       ...,\n",
       "       [1, 0],\n",
       "       [0, 1],\n",
       "       [0, 1]])"
      ]
     },
     "execution_count": 104,
     "metadata": {},
     "output_type": "execute_result"
    }
   ],
   "source": [
    "# There are approximitely 3 web development cohorts for every 1 data science cohort at Codeup. \n",
    "# Assuming that Codeup randomly selects an alumni to put on a billboard, \n",
    "# what are the odds that the two billboards I drive past both have data science students on them?\n",
    "\n",
    "n_trials = nrows = 10**5\n",
    "n_bills = ncols = 2\n",
    "\n",
    "alum = np.random.choice([0, 0, 0, 1], n_trials * n_dice).reshape(nrows, ncols)\n",
    "alum"
   ]
  },
  {
   "cell_type": "code",
   "execution_count": 106,
   "id": "0a01446c",
   "metadata": {},
   "outputs": [
    {
     "data": {
      "text/plain": [
       "0.06255"
      ]
     },
     "execution_count": 106,
     "metadata": {},
     "output_type": "execute_result"
    }
   ],
   "source": [
    "DS_student = (alum.sum(axis=1) == 2).mean()\n",
    "DS_student"
   ]
  },
  {
   "cell_type": "code",
   "execution_count": 128,
   "id": "afc8d6ec",
   "metadata": {},
   "outputs": [
    {
     "data": {
      "text/plain": [
       "array([[ 1.32584843,  2.17609697,  2.426834  ,  3.14399814,  4.12117734],\n",
       "       [ 2.85382265,  0.09088141,  4.85193434,  3.80415846,  2.266643  ],\n",
       "       [ 6.64204044,  3.90751457,  4.04025643,  3.89820645,  4.02076782],\n",
       "       ...,\n",
       "       [ 1.57924731,  2.61686198,  4.29127373,  2.06977689,  3.3377    ],\n",
       "       [ 5.32684394,  6.86504489,  1.93571865,  4.76866728,  3.04523395],\n",
       "       [ 0.97244044,  1.89127534, -0.75495083,  4.79680119,  4.70998968]])"
      ]
     },
     "execution_count": 128,
     "metadata": {},
     "output_type": "execute_result"
    }
   ],
   "source": [
    "# Codeup students buy, on average, 3 poptart packages with a standard deviation of 1.5 a day from the \n",
    "# snack vending machine. If on monday the machine is restocked with 17 poptart packages, \n",
    "# how likely is it that I will be able to buy some poptarts on Friday afternoon? \n",
    "# (Remember, if you have mean and standard deviation, use the np.random.normal)\n",
    "\n",
    "n_trials = nrows = 10**5\n",
    "n_days = ncols = 5\n",
    "\n",
    "poptarts = np.random.normal(3, 1.5, n_trials * n_days).reshape(nrows, ncols)\n",
    "poptarts"
   ]
  },
  {
   "cell_type": "code",
   "execution_count": 130,
   "id": "bf6ccbee",
   "metadata": {},
   "outputs": [
    {
     "data": {
      "text/plain": [
       "array([[ 1.,  2.,  2.,  3.,  4.],\n",
       "       [ 3.,  0.,  5.,  4.,  2.],\n",
       "       [ 7.,  4.,  4.,  4.,  4.],\n",
       "       ...,\n",
       "       [ 2.,  3.,  4.,  2.,  3.],\n",
       "       [ 5.,  7.,  2.,  5.,  3.],\n",
       "       [ 1.,  2., -1.,  5.,  5.]])"
      ]
     },
     "execution_count": 130,
     "metadata": {},
     "output_type": "execute_result"
    }
   ],
   "source": [
    "poptarts.round()"
   ]
  },
  {
   "cell_type": "code",
   "execution_count": 133,
   "id": "4b066bc4",
   "metadata": {},
   "outputs": [
    {
     "data": {
      "text/plain": [
       "0.72422"
      ]
     },
     "execution_count": 133,
     "metadata": {},
     "output_type": "execute_result"
    }
   ],
   "source": [
    "yes_friday = (poptarts.sum(axis=1) < 17).mean()\n",
    "yes_friday"
   ]
  },
  {
   "cell_type": "code",
   "execution_count": null,
   "id": "99ea7aa1",
   "metadata": {},
   "outputs": [],
   "source": [
    "# Compare Heights\n",
    "# Men have an average height of 178 cm and standard deviation of 8cm.\n",
    "# Women have a mean of 170, sd = 6cm.\n",
    "# Since you have means and standard deviations, you can use np.random.normal to generate observations.\n",
    "# If a man and woman are chosen at random, what is the likelihood the woman is taller than the man?"
   ]
  },
  {
   "cell_type": "code",
   "execution_count": null,
   "id": "348d373a",
   "metadata": {},
   "outputs": [],
   "source": []
  },
  {
   "cell_type": "code",
   "execution_count": null,
   "id": "555494cf",
   "metadata": {},
   "outputs": [],
   "source": []
  },
  {
   "cell_type": "code",
   "execution_count": null,
   "id": "fbf27059",
   "metadata": {},
   "outputs": [],
   "source": [
    "\n",
    "# When installing anaconda on a student's computer, there's a 1 in 250 chance that the download is corrupted and the installation fails. What are the odds that after having 50 students download anaconda, no one has an installation issue? 100 students?\n",
    "\n",
    "# What is the probability that we observe an installation issue within the first 150 students that download anaconda?\n",
    "\n",
    "# How likely is it that 450 students all download anaconda without an issue?\n",
    "\n",
    "# There's a 70% chance on any given day that there will be at least one food truck at Travis Park. However, you haven't seen a food truck there in 3 days. How unlikely is this?\n",
    "\n",
    "# How likely is it that a food truck will show up sometime this week?\n",
    "\n",
    "# If 23 people are in the same room, what are the odds that two of them share a birthday? What if it's 20 people? 40?"
   ]
  },
  {
   "cell_type": "code",
   "execution_count": null,
   "id": "a1d61ed8",
   "metadata": {},
   "outputs": [],
   "source": []
  },
  {
   "cell_type": "code",
   "execution_count": null,
   "id": "c7fb3120",
   "metadata": {},
   "outputs": [],
   "source": []
  }
 ],
 "metadata": {
  "kernelspec": {
   "display_name": "Python 3 (ipykernel)",
   "language": "python",
   "name": "python3"
  },
  "language_info": {
   "codemirror_mode": {
    "name": "ipython",
    "version": 3
   },
   "file_extension": ".py",
   "mimetype": "text/x-python",
   "name": "python",
   "nbconvert_exporter": "python",
   "pygments_lexer": "ipython3",
   "version": "3.9.7"
  }
 },
 "nbformat": 4,
 "nbformat_minor": 5
}
